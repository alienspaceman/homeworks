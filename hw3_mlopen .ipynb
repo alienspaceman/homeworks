{
 "cells": [
  {
   "cell_type": "code",
   "execution_count": 2,
   "metadata": {
    "collapsed": true
   },
   "outputs": [],
   "source": [
    "import numpy as np\n",
    "import pandas as pd\n",
    "from matplotlib import pyplot as plt\n",
    "%matplotlib inline\n",
    "from sklearn.model_selection import train_test_split, GridSearchCV\n",
    "from sklearn.metrics import accuracy_score\n",
    "from sklearn.tree import DecisionTreeClassifier, export_graphviz, DecisionTreeRegressor"
   ]
  },
  {
   "cell_type": "code",
   "execution_count": 2,
   "metadata": {},
   "outputs": [
    {
     "data": {
      "image/png": "[encoded data removed]",
      "text/plain": [
       "<matplotlib.figure.Figure at 0x2239e6665c0>"
      ]
     },
     "metadata": {},
     "output_type": "display_data"
    }
   ],
   "source": [
    "X = np.linspace(-2, 2, 7)\n",
    "y = X ** 3\n",
    "\n",
    "plt.scatter(X, y)\n",
    "plt.xlabel(r'$x$')\n",
    "plt.ylabel(r'$y$');\n"
   ]
  },
  {
   "cell_type": "code",
   "execution_count": 3,
   "metadata": {
    "collapsed": true
   },
   "outputs": [],
   "source": [
    "# Вопрос 01. Дерево глубины 0 состоит из одного корня, который содержит всю обучающую выборку.\n",
    "# Как будут выглядеть предсказания данного дерева для x∈[−2,2]x∈[−2,2]? Постройте соответствующий график."
   ]
  },
  {
   "cell_type": "code",
   "execution_count": 4,
   "metadata": {
    "collapsed": true
   },
   "outputs": [],
   "source": [
    "ym1 = [np.median(y) for i in range(len(X))]"
   ]
  },
  {
   "cell_type": "code",
   "execution_count": 5,
   "metadata": {},
   "outputs": [
    {
     "data": {
      "image/png": "[encoded data removed]",
      "text/plain": [
       "<matplotlib.figure.Figure at 0x2239ed677b8>"
      ]
     },
     "metadata": {},
     "output_type": "display_data"
    }
   ],
   "source": [
    "plt.scatter(X, ym1)\n",
    "plt.xlabel(r'$x$')\n",
    "plt.ylabel(r'$y$');"
   ]
  },
  {
   "cell_type": "code",
   "execution_count": 6,
   "metadata": {
    "collapsed": true
   },
   "outputs": [],
   "source": [
    "# Вопрос 02. Произведем первое разбиение выборки по предикату [x<0]. Получим дерево глубины 1 с двумя листьями."
   ]
  },
  {
   "cell_type": "code",
   "execution_count": 7,
   "metadata": {
    "collapsed": true
   },
   "outputs": [],
   "source": [
    "X1 = []\n",
    "X2 = []\n",
    "y1 = []\n",
    "y2 = []\n",
    "\n",
    "for i in range(len(X)):\n",
    "    if X[i] < 0:\n",
    "        X1.append(X[i])\n",
    "        y1.append(y[i])\n",
    "    else:\n",
    "        X2.append(X[i])\n",
    "        y2.append(y[i])"
   ]
  },
  {
   "cell_type": "code",
   "execution_count": 34,
   "metadata": {
    "collapsed": true
   },
   "outputs": [],
   "source": [
    "ym1 = [np.median(y1) for i in range(len(X1))]\n",
    "ym2 = [np.median(y2) for i in range(len(X2))]"
   ]
  },
  {
   "cell_type": "code",
   "execution_count": 35,
   "metadata": {},
   "outputs": [
    {
     "data": {
      "image/png": "[encoded data removed]",
      "text/plain": [
       "<matplotlib.figure.Figure at 0x223a00b19b0>"
      ]
     },
     "metadata": {},
     "output_type": "display_data"
    }
   ],
   "source": [
    "plt.scatter(X1, ym1)\n",
    "plt.scatter(X2, ym2)\n",
    "plt.xlabel(r'$x$')\n",
    "plt.ylabel(r'$y$');\n"
   ]
  },
  {
   "cell_type": "code",
   "execution_count": 31,
   "metadata": {
    "collapsed": true
   },
   "outputs": [],
   "source": [
    "#Вопрос 03. Постройте график функции Q(X,t)Q(X,t) в корне в зависимости от значения порога tt на отрезке [−1.9,1.9][−1.9,1.9]."
   ]
  },
  {
   "cell_type": "code",
   "execution_count": 10,
   "metadata": {
    "collapsed": true
   },
   "outputs": [],
   "source": [
    "def disper(X, y):\n",
    "    d = (1./ len(X)) * sum (np.power(y - (1./ len(X)) * sum(y), 2))\n",
    "    return d"
   ]
  },
  {
   "cell_type": "code",
   "execution_count": 22,
   "metadata": {
    "collapsed": true
   },
   "outputs": [],
   "source": [
    "def regression_var_criterion(X, y, t):\n",
    "\n",
    "    X1 = []\n",
    "    X2 = []\n",
    "    y1 = []\n",
    "    y2 = []\n",
    "\n",
    "    for i in range(len(X)):\n",
    "        if X[i] < t:\n",
    "            X1.append(X[i])\n",
    "            y1.append(y[i])\n",
    "        else:\n",
    "            X2.append(X[i])\n",
    "            y2.append(y[i])\n",
    "    Q = disper(X, y) - (len(X1) / X.shape[0]) * disper(X1, y1) -(len(X2) / X.shape[0]) * disper(X2, y2)\n",
    "    return Q"
   ]
  },
  {
   "cell_type": "code",
   "execution_count": 30,
   "metadata": {},
   "outputs": [
    {
     "name": "stdout",
     "output_type": "stream",
     "text": [
      "[10.666666666666664, 10.666666666666664, 10.666666666666664, 10.666666666666664, 10.666666666666664, 10.666666666666664, 10.754458161865568, 10.754458161865568, 10.754458161865568, 10.754458161865568, 10.754458161865568, 10.754458161865568, 10.754458161865568, 9.481481481481481, 9.481481481481481, 9.481481481481481, 9.481481481481481, 9.481481481481481, 9.481481481481481, 9.481481481481481, 9.4814814814814774, 9.4814814814814774, 9.4814814814814774, 9.4814814814814774, 9.4814814814814774, 9.4814814814814774, 10.754458161865566, 10.754458161865566, 10.754458161865566, 10.754458161865566, 10.754458161865566, 10.754458161865566, 10.754458161865566, 10.666666666666666, 10.666666666666666, 10.666666666666666, 10.666666666666666, 10.666666666666666]\n",
      "10.7544581619\n"
     ]
    }
   ],
   "source": [
    "t = [i / 10 for i in range(-19, 19)]\n",
    "Q = []\n",
    "for i in t:\n",
    "    Q.append(regression_var_criterion(X, y, i))\n",
    "print(Q)\n",
    "print(max(Q))"
   ]
  },
  {
   "cell_type": "code",
   "execution_count": 29,
   "metadata": {},
   "outputs": [
    {
     "data": {
      "text/plain": [
       "[<matplotlib.lines.Line2D at 0x223a0076b70>]"
      ]
     },
     "execution_count": 29,
     "metadata": {},
     "output_type": "execute_result"
    },
    {
     "data": {
      "image/png": "[encoded data removed]",
      "text/plain": [
       "<matplotlib.figure.Figure at 0x2239e81bcf8>"
      ]
     },
     "metadata": {},
     "output_type": "display_data"
    }
   ],
   "source": [
    "plt.plot(t, Q)"
   ]
  },
  {
   "cell_type": "code",
   "execution_count": 32,
   "metadata": {
    "collapsed": true
   },
   "outputs": [],
   "source": [
    "# Теперь произведем разбиение в каждой из листовых вершин. \n",
    "# В левой (соответствующей ветви x<0) – по предикату [x<−1.5], \n",
    "# а в правой (соответствующей ветви x⩾0) – по предикату [x<1.5]. "
   ]
  },
  {
   "cell_type": "code",
   "execution_count": 33,
   "metadata": {
    "collapsed": true
   },
   "outputs": [],
   "source": [
    "X11 = [] #[x<−1.5]\n",
    "X12 = [] #[−1.5<x<0]\n",
    "X21 = [] #[0<x<1.5]\n",
    "X22 = [] #[x>1.5]\n",
    "y11 = []\n",
    "y12 = []\n",
    "y21 = []\n",
    "y22 = []\n",
    "\n",
    "\n",
    "for i in range(len(X1)):\n",
    "    if X1[i] < -1.5:\n",
    "        X11.append(X1[i])\n",
    "        y11.append(y1[i])\n",
    "    else:\n",
    "        X12.append(X1[i])\n",
    "        y12.append(y1[i])\n",
    "for i in range(len(X2)):\n",
    "    if X2[i] < 1.5:\n",
    "        X21.append(X2[i])\n",
    "        y21.append(y2[i])\n",
    "    else:\n",
    "        X22.append(X2[i])\n",
    "        y22.append(y2[i])"
   ]
  },
  {
   "cell_type": "code",
   "execution_count": 36,
   "metadata": {
    "collapsed": true
   },
   "outputs": [],
   "source": [
    "ym11 = [np.median(y11) for i in range(len(X11))]\n",
    "ym12 = [np.median(y12) for i in range(len(X12))]\n",
    "ym21 = [np.median(y21) for i in range(len(X21))]\n",
    "ym22 = [np.median(y22) for i in range(len(X22))]"
   ]
  },
  {
   "cell_type": "code",
   "execution_count": 42,
   "metadata": {},
   "outputs": [
    {
     "data": {
      "image/png": "[encoded data removed]",
      "text/plain": [
       "<matplotlib.figure.Figure at 0x223a014c4a8>"
      ]
     },
     "metadata": {},
     "output_type": "display_data"
    }
   ],
   "source": [
    "plt.scatter(X11, ym11)\n",
    "plt.scatter(X12, ym12)\n",
    "plt.scatter(X21, ym21)\n",
    "plt.scatter(X22, ym22)\n",
    "plt.xlabel(r'$x$')\n",
    "plt.ylabel(r'$y$');\n"
   ]
  },
  {
   "cell_type": "code",
   "execution_count": 49,
   "metadata": {},
   "outputs": [
    {
     "data": {
      "image/png": "[encoded data removed]",
      "text/plain": [
       "<matplotlib.figure.Figure at 0x2239e824048>"
      ]
     },
     "metadata": {},
     "output_type": "display_data"
    }
   ],
   "source": [
    "yv2 = ym11 + ym12 + ym21 + ym22\n",
    "plt.plot(X, yv2 )\n",
    "plt.xlabel(r'$x$')\n",
    "plt.ylabel(r'$y$');\n"
   ]
  },
  {
   "cell_type": "code",
   "execution_count": 43,
   "metadata": {
    "collapsed": true
   },
   "outputs": [],
   "source": [
    "# ну может на 5 но кто его знает. я не знаю как это всё строить =( ."
   ]
  },
  {
   "cell_type": "code",
   "execution_count": 50,
   "metadata": {
    "collapsed": true
   },
   "outputs": [],
   "source": [
    "# НАКОНЕЦ СО ВСТРОЕННЫМИ ШТУКАМИ!!!!!!!"
   ]
  },
  {
   "cell_type": "code",
   "execution_count": 142,
   "metadata": {},
   "outputs": [],
   "source": [
    "url ='https://raw.githubusercontent.com/Yorko/mlcourse_open/master/data/mlbootcamp5_train.csv'\n",
    "df = pd.read_csv(url, sep=';', index_col='id')"
   ]
  },
  {
   "cell_type": "code",
   "execution_count": 143,
   "metadata": {},
   "outputs": [
    {
     "data": {
      "text/html": [
       "<div>\n",
       "<style>\n",
       "    .dataframe thead tr:only-child th {\n",
       "        text-align: right;\n",
       "    }\n",
       "\n",
       "    .dataframe thead th {\n",
       "        text-align: left;\n",
       "    }\n",
       "\n",
       "    .dataframe tbody tr th {\n",
       "        vertical-align: top;\n",
       "    }\n",
       "</style>\n",
       "<table border=\"1\" class=\"dataframe\">\n",
       "  <thead>\n",
       "    <tr style=\"text-align: right;\">\n",
       "      <th></th>\n",
       "      <th>age</th>\n",
       "      <th>gender</th>\n",
       "      <th>height</th>\n",
       "      <th>weight</th>\n",
       "      <th>ap_hi</th>\n",
       "      <th>ap_lo</th>\n",
       "      <th>cholesterol</th>\n",
       "      <th>gluc</th>\n",
       "      <th>smoke</th>\n",
       "      <th>alco</th>\n",
       "      <th>active</th>\n",
       "      <th>cardio</th>\n",
       "    </tr>\n",
       "    <tr>\n",
       "      <th>id</th>\n",
       "      <th></th>\n",
       "      <th></th>\n",
       "      <th></th>\n",
       "      <th></th>\n",
       "      <th></th>\n",
       "      <th></th>\n",
       "      <th></th>\n",
       "      <th></th>\n",
       "      <th></th>\n",
       "      <th></th>\n",
       "      <th></th>\n",
       "      <th></th>\n",
       "    </tr>\n",
       "  </thead>\n",
       "  <tbody>\n",
       "    <tr>\n",
       "      <th>0</th>\n",
       "      <td>18393</td>\n",
       "      <td>2</td>\n",
       "      <td>168</td>\n",
       "      <td>62.0</td>\n",
       "      <td>110</td>\n",
       "      <td>80</td>\n",
       "      <td>1</td>\n",
       "      <td>1</td>\n",
       "      <td>0</td>\n",
       "      <td>0</td>\n",
       "      <td>1</td>\n",
       "      <td>0</td>\n",
       "    </tr>\n",
       "    <tr>\n",
       "      <th>1</th>\n",
       "      <td>20228</td>\n",
       "      <td>1</td>\n",
       "      <td>156</td>\n",
       "      <td>85.0</td>\n",
       "      <td>140</td>\n",
       "      <td>90</td>\n",
       "      <td>3</td>\n",
       "      <td>1</td>\n",
       "      <td>0</td>\n",
       "      <td>0</td>\n",
       "      <td>1</td>\n",
       "      <td>1</td>\n",
       "    </tr>\n",
       "    <tr>\n",
       "      <th>2</th>\n",
       "      <td>18857</td>\n",
       "      <td>1</td>\n",
       "      <td>165</td>\n",
       "      <td>64.0</td>\n",
       "      <td>130</td>\n",
       "      <td>70</td>\n",
       "      <td>3</td>\n",
       "      <td>1</td>\n",
       "      <td>0</td>\n",
       "      <td>0</td>\n",
       "      <td>0</td>\n",
       "      <td>1</td>\n",
       "    </tr>\n",
       "    <tr>\n",
       "      <th>3</th>\n",
       "      <td>17623</td>\n",
       "      <td>2</td>\n",
       "      <td>169</td>\n",
       "      <td>82.0</td>\n",
       "      <td>150</td>\n",
       "      <td>100</td>\n",
       "      <td>1</td>\n",
       "      <td>1</td>\n",
       "      <td>0</td>\n",
       "      <td>0</td>\n",
       "      <td>1</td>\n",
       "      <td>1</td>\n",
       "    </tr>\n",
       "    <tr>\n",
       "      <th>4</th>\n",
       "      <td>17474</td>\n",
       "      <td>1</td>\n",
       "      <td>156</td>\n",
       "      <td>56.0</td>\n",
       "      <td>100</td>\n",
       "      <td>60</td>\n",
       "      <td>1</td>\n",
       "      <td>1</td>\n",
       "      <td>0</td>\n",
       "      <td>0</td>\n",
       "      <td>0</td>\n",
       "      <td>0</td>\n",
       "    </tr>\n",
       "  </tbody>\n",
       "</table>\n",
       "</div>"
      ],
      "text/plain": [
       "      age  gender  height  weight  ap_hi  ap_lo  cholesterol  gluc  smoke  \\\n",
       "id                                                                          \n",
       "0   18393       2     168    62.0    110     80            1     1      0   \n",
       "1   20228       1     156    85.0    140     90            3     1      0   \n",
       "2   18857       1     165    64.0    130     70            3     1      0   \n",
       "3   17623       2     169    82.0    150    100            1     1      0   \n",
       "4   17474       1     156    56.0    100     60            1     1      0   \n",
       "\n",
       "    alco  active  cardio  \n",
       "id                        \n",
       "0      0       1       0  \n",
       "1      0       1       1  \n",
       "2      0       0       1  \n",
       "3      0       1       1  \n",
       "4      0       0       0  "
      ]
     },
     "execution_count": 143,
     "metadata": {},
     "output_type": "execute_result"
    }
   ],
   "source": [
    "df.head()"
   ]
  },
  {
   "cell_type": "code",
   "execution_count": 144,
   "metadata": {
    "collapsed": true
   },
   "outputs": [],
   "source": [
    "df['age_years'] = (df['age'] // 365.25).astype(int)"
   ]
  },
  {
   "cell_type": "code",
   "execution_count": 145,
   "metadata": {},
   "outputs": [],
   "source": [
    "df[['chol1'] + ['chol2'] + ['chol3']]=pd.get_dummies(df[('cholesterol')],  prefix='cholesterol')"
   ]
  },
  {
   "cell_type": "code",
   "execution_count": 146,
   "metadata": {},
   "outputs": [],
   "source": [
    "df[['gluc1'] + ['gluc2'] + ['gluc3']]=pd.get_dummies(df[('gluc')],  prefix='gluc')"
   ]
  },
  {
   "cell_type": "code",
   "execution_count": 147,
   "metadata": {},
   "outputs": [
    {
     "data": {
      "text/html": [
       "<div>\n",
       "<style>\n",
       "    .dataframe thead tr:only-child th {\n",
       "        text-align: right;\n",
       "    }\n",
       "\n",
       "    .dataframe thead th {\n",
       "        text-align: left;\n",
       "    }\n",
       "\n",
       "    .dataframe tbody tr th {\n",
       "        vertical-align: top;\n",
       "    }\n",
       "</style>\n",
       "<table border=\"1\" class=\"dataframe\">\n",
       "  <thead>\n",
       "    <tr style=\"text-align: right;\">\n",
       "      <th></th>\n",
       "      <th>age</th>\n",
       "      <th>gender</th>\n",
       "      <th>height</th>\n",
       "      <th>weight</th>\n",
       "      <th>ap_hi</th>\n",
       "      <th>ap_lo</th>\n",
       "      <th>cholesterol</th>\n",
       "      <th>gluc</th>\n",
       "      <th>smoke</th>\n",
       "      <th>alco</th>\n",
       "      <th>active</th>\n",
       "      <th>cardio</th>\n",
       "      <th>age_years</th>\n",
       "      <th>chol1</th>\n",
       "      <th>chol2</th>\n",
       "      <th>chol3</th>\n",
       "      <th>gluc1</th>\n",
       "      <th>gluc2</th>\n",
       "      <th>gluc3</th>\n",
       "    </tr>\n",
       "    <tr>\n",
       "      <th>id</th>\n",
       "      <th></th>\n",
       "      <th></th>\n",
       "      <th></th>\n",
       "      <th></th>\n",
       "      <th></th>\n",
       "      <th></th>\n",
       "      <th></th>\n",
       "      <th></th>\n",
       "      <th></th>\n",
       "      <th></th>\n",
       "      <th></th>\n",
       "      <th></th>\n",
       "      <th></th>\n",
       "      <th></th>\n",
       "      <th></th>\n",
       "      <th></th>\n",
       "      <th></th>\n",
       "      <th></th>\n",
       "      <th></th>\n",
       "    </tr>\n",
       "  </thead>\n",
       "  <tbody>\n",
       "    <tr>\n",
       "      <th>0</th>\n",
       "      <td>18393</td>\n",
       "      <td>2</td>\n",
       "      <td>168</td>\n",
       "      <td>62.0</td>\n",
       "      <td>110</td>\n",
       "      <td>80</td>\n",
       "      <td>1</td>\n",
       "      <td>1</td>\n",
       "      <td>0</td>\n",
       "      <td>0</td>\n",
       "      <td>1</td>\n",
       "      <td>0</td>\n",
       "      <td>50</td>\n",
       "      <td>1</td>\n",
       "      <td>0</td>\n",
       "      <td>0</td>\n",
       "      <td>1</td>\n",
       "      <td>0</td>\n",
       "      <td>0</td>\n",
       "    </tr>\n",
       "    <tr>\n",
       "      <th>1</th>\n",
       "      <td>20228</td>\n",
       "      <td>1</td>\n",
       "      <td>156</td>\n",
       "      <td>85.0</td>\n",
       "      <td>140</td>\n",
       "      <td>90</td>\n",
       "      <td>3</td>\n",
       "      <td>1</td>\n",
       "      <td>0</td>\n",
       "      <td>0</td>\n",
       "      <td>1</td>\n",
       "      <td>1</td>\n",
       "      <td>55</td>\n",
       "      <td>0</td>\n",
       "      <td>0</td>\n",
       "      <td>1</td>\n",
       "      <td>1</td>\n",
       "      <td>0</td>\n",
       "      <td>0</td>\n",
       "    </tr>\n",
       "    <tr>\n",
       "      <th>2</th>\n",
       "      <td>18857</td>\n",
       "      <td>1</td>\n",
       "      <td>165</td>\n",
       "      <td>64.0</td>\n",
       "      <td>130</td>\n",
       "      <td>70</td>\n",
       "      <td>3</td>\n",
       "      <td>1</td>\n",
       "      <td>0</td>\n",
       "      <td>0</td>\n",
       "      <td>0</td>\n",
       "      <td>1</td>\n",
       "      <td>51</td>\n",
       "      <td>0</td>\n",
       "      <td>0</td>\n",
       "      <td>1</td>\n",
       "      <td>1</td>\n",
       "      <td>0</td>\n",
       "      <td>0</td>\n",
       "    </tr>\n",
       "    <tr>\n",
       "      <th>3</th>\n",
       "      <td>17623</td>\n",
       "      <td>2</td>\n",
       "      <td>169</td>\n",
       "      <td>82.0</td>\n",
       "      <td>150</td>\n",
       "      <td>100</td>\n",
       "      <td>1</td>\n",
       "      <td>1</td>\n",
       "      <td>0</td>\n",
       "      <td>0</td>\n",
       "      <td>1</td>\n",
       "      <td>1</td>\n",
       "      <td>48</td>\n",
       "      <td>1</td>\n",
       "      <td>0</td>\n",
       "      <td>0</td>\n",
       "      <td>1</td>\n",
       "      <td>0</td>\n",
       "      <td>0</td>\n",
       "    </tr>\n",
       "    <tr>\n",
       "      <th>4</th>\n",
       "      <td>17474</td>\n",
       "      <td>1</td>\n",
       "      <td>156</td>\n",
       "      <td>56.0</td>\n",
       "      <td>100</td>\n",
       "      <td>60</td>\n",
       "      <td>1</td>\n",
       "      <td>1</td>\n",
       "      <td>0</td>\n",
       "      <td>0</td>\n",
       "      <td>0</td>\n",
       "      <td>0</td>\n",
       "      <td>47</td>\n",
       "      <td>1</td>\n",
       "      <td>0</td>\n",
       "      <td>0</td>\n",
       "      <td>1</td>\n",
       "      <td>0</td>\n",
       "      <td>0</td>\n",
       "    </tr>\n",
       "  </tbody>\n",
       "</table>\n",
       "</div>"
      ],
      "text/plain": [
       "      age  gender  height  weight  ap_hi  ap_lo  cholesterol  gluc  smoke  \\\n",
       "id                                                                          \n",
       "0   18393       2     168    62.0    110     80            1     1      0   \n",
       "1   20228       1     156    85.0    140     90            3     1      0   \n",
       "2   18857       1     165    64.0    130     70            3     1      0   \n",
       "3   17623       2     169    82.0    150    100            1     1      0   \n",
       "4   17474       1     156    56.0    100     60            1     1      0   \n",
       "\n",
       "    alco  active  cardio  age_years  chol1  chol2  chol3  gluc1  gluc2  gluc3  \n",
       "id                                                                             \n",
       "0      0       1       0         50      1      0      0      1      0      0  \n",
       "1      0       1       1         55      0      0      1      1      0      0  \n",
       "2      0       0       1         51      0      0      1      1      0      0  \n",
       "3      0       1       1         48      1      0      0      1      0      0  \n",
       "4      0       0       0         47      1      0      0      1      0      0  "
      ]
     },
     "execution_count": 147,
     "metadata": {},
     "output_type": "execute_result"
    }
   ],
   "source": [
    "df.head()"
   ]
  },
  {
   "cell_type": "code",
   "execution_count": 148,
   "metadata": {},
   "outputs": [
    {
     "name": "stdout",
     "output_type": "stream",
     "text": [
      "<class 'pandas.core.frame.DataFrame'>\n",
      "Int64Index: 70000 entries, 0 to 99999\n",
      "Data columns (total 19 columns):\n",
      "age            70000 non-null int64\n",
      "gender         70000 non-null int64\n",
      "height         70000 non-null int64\n",
      "weight         70000 non-null float64\n",
      "ap_hi          70000 non-null int64\n",
      "ap_lo          70000 non-null int64\n",
      "cholesterol    70000 non-null int64\n",
      "gluc           70000 non-null int64\n",
      "smoke          70000 non-null int64\n",
      "alco           70000 non-null int64\n",
      "active         70000 non-null int64\n",
      "cardio         70000 non-null int64\n",
      "age_years      70000 non-null int32\n",
      "chol1          70000 non-null uint8\n",
      "chol2          70000 non-null uint8\n",
      "chol3          70000 non-null uint8\n",
      "gluc1          70000 non-null uint8\n",
      "gluc2          70000 non-null uint8\n",
      "gluc3          70000 non-null uint8\n",
      "dtypes: float64(1), int32(1), int64(11), uint8(6)\n",
      "memory usage: 7.6 MB\n"
     ]
    }
   ],
   "source": [
    "df.info()"
   ]
  },
  {
   "cell_type": "code",
   "execution_count": 149,
   "metadata": {},
   "outputs": [],
   "source": [
    "y_var = df['cardio']\n",
    "df.drop(['cardio' , 'cholesterol' , 'gluc'], axis=1, inplace=True)"
   ]
  },
  {
   "cell_type": "code",
   "execution_count": 150,
   "metadata": {},
   "outputs": [],
   "source": [
    "X_train, X_valid, y_train, y_valid = train_test_split(df.values, y_var, test_size=0.3, random_state=17)"
   ]
  },
  {
   "cell_type": "code",
   "execution_count": 151,
   "metadata": {},
   "outputs": [
    {
     "data": {
      "text/plain": [
       "DecisionTreeClassifier(class_weight=None, criterion='gini', max_depth=3,\n",
       "            max_features=None, max_leaf_nodes=None,\n",
       "            min_impurity_split=1e-07, min_samples_leaf=1,\n",
       "            min_samples_split=2, min_weight_fraction_leaf=0.0,\n",
       "            presort=False, random_state=17, splitter='best')"
      ]
     },
     "execution_count": 151,
     "metadata": {},
     "output_type": "execute_result"
    }
   ],
   "source": [
    "mytree = DecisionTreeClassifier(max_depth=3, random_state=17)\n",
    "mytree.fit(X_train, y_train)"
   ]
  },
  {
   "cell_type": "code",
   "execution_count": 152,
   "metadata": {},
   "outputs": [],
   "source": [
    "export_graphviz(mytree, out_file='tree.dot', feature_names=df.columns) "
   ]
  },
  {
   "cell_type": "code",
   "execution_count": 153,
   "metadata": {},
   "outputs": [],
   "source": [
    "!dot -Tpng tree.dot -o tree.png"
   ]
  },
  {
   "cell_type": "code",
   "execution_count": 154,
   "metadata": {},
   "outputs": [],
   "source": [
    "import os\n",
    "os.startfile(r'tree.png')"
   ]
  },
  {
   "cell_type": "code",
   "execution_count": 155,
   "metadata": {
    "collapsed": true
   },
   "outputs": [],
   "source": [
    "# там есть ap_hi, age, chol3"
   ]
  },
  {
   "cell_type": "code",
   "execution_count": 156,
   "metadata": {
    "collapsed": true
   },
   "outputs": [],
   "source": [
    "# Сделайте с помощью обученного дерева прогноз для отложенной выборки (X_valid, y_valid).\n",
    "# Посчитайте долю верных ответов (accuracy)."
   ]
  },
  {
   "cell_type": "code",
   "execution_count": 157,
   "metadata": {
    "collapsed": true
   },
   "outputs": [],
   "source": [
    "# доля без кросс валидации"
   ]
  },
  {
   "cell_type": "code",
   "execution_count": 158,
   "metadata": {},
   "outputs": [
    {
     "name": "stdout",
     "output_type": "stream",
     "text": [
      "0.721285714286\n"
     ]
    }
   ],
   "source": [
    "from sklearn.metrics import accuracy_score\n",
    "\n",
    "tree_pred = mytree.predict(X_valid)\n",
    "pred1 = accuracy_score(y_valid, tree_pred) \n",
    "print(pred1)"
   ]
  },
  {
   "cell_type": "code",
   "execution_count": 159,
   "metadata": {},
   "outputs": [
    {
     "data": {
      "text/plain": [
       "GridSearchCV(cv=5, error_score='raise',\n",
       "       estimator=DecisionTreeClassifier(class_weight=None, criterion='gini', max_depth=3,\n",
       "            max_features=None, max_leaf_nodes=None,\n",
       "            min_impurity_split=1e-07, min_samples_leaf=1,\n",
       "            min_samples_split=2, min_weight_fraction_leaf=0.0,\n",
       "            presort=False, random_state=17, splitter='best'),\n",
       "       fit_params={}, iid=True, n_jobs=1,\n",
       "       param_grid={'max_depth': [2, 3, 4, 5, 6, 7, 8, 9, 10]},\n",
       "       pre_dispatch='2*n_jobs', refit=True, return_train_score=True,\n",
       "       scoring=None, verbose=0)"
      ]
     },
     "execution_count": 159,
     "metadata": {},
     "output_type": "execute_result"
    }
   ],
   "source": [
    "tree_params = {'max_depth': list(range(2, 11))}\n",
    "\n",
    "tree_grid = GridSearchCV(mytree, tree_params, cv=5)\n",
    "\n",
    "tree_grid.fit(X_train, y_train)"
   ]
  },
  {
   "cell_type": "code",
   "execution_count": 160,
   "metadata": {
    "collapsed": true
   },
   "outputs": [],
   "source": [
    "# доля с кросс валидацией"
   ]
  },
  {
   "cell_type": "code",
   "execution_count": 161,
   "metadata": {},
   "outputs": [
    {
     "name": "stdout",
     "output_type": "stream",
     "text": [
      "0.72580952381\n"
     ]
    }
   ],
   "source": [
    "pred2 = accuracy_score(y_valid, tree_grid.predict(X_valid))\n",
    "print(pred2)"
   ]
  },
  {
   "cell_type": "code",
   "execution_count": 162,
   "metadata": {},
   "outputs": [
    {
     "data": {
      "text/plain": [
       "{'max_depth': 6}"
      ]
     },
     "execution_count": 162,
     "metadata": {},
     "output_type": "execute_result"
    }
   ],
   "source": [
    "tree_grid.best_params_"
   ]
  },
  {
   "cell_type": "code",
   "execution_count": 163,
   "metadata": {},
   "outputs": [],
   "source": [
    "results = tree_grid.cv_results_"
   ]
  },
  {
   "cell_type": "code",
   "execution_count": 164,
   "metadata": {},
   "outputs": [
    {
     "data": {
      "text/plain": [
       "{'mean_fit_time': array([ 0.04201255,  0.05084791,  0.0630003 ,  0.07782497,  0.08856382,\n",
       "         0.10170565,  0.11372671,  0.1244565 ,  0.13572989]),\n",
       " 'mean_score_time': array([ 0.00140481,  0.00160408,  0.00170531,  0.00141134,  0.00161209,\n",
       "         0.00200043,  0.00220666,  0.00219846,  0.00301762]),\n",
       " 'mean_test_score': array([ 0.7155102 ,  0.72771429,  0.7304898 ,  0.73095918,  0.73195918,\n",
       "         0.73040816,  0.72971429,  0.72791837,  0.72634694]),\n",
       " 'mean_train_score': array([ 0.71551022,  0.7277143 ,  0.7307194 ,  0.73351022,  0.73529084,\n",
       "         0.73989288,  0.7449388 ,  0.75079594,  0.75808675]),\n",
       " 'param_max_depth': masked_array(data = [2 3 4 5 6 7 8 9 10],\n",
       "              mask = [False False False False False False False False False],\n",
       "        fill_value = ?),\n",
       " 'params': ({'max_depth': 2},\n",
       "  {'max_depth': 3},\n",
       "  {'max_depth': 4},\n",
       "  {'max_depth': 5},\n",
       "  {'max_depth': 6},\n",
       "  {'max_depth': 7},\n",
       "  {'max_depth': 8},\n",
       "  {'max_depth': 9},\n",
       "  {'max_depth': 10}),\n",
       " 'rank_test_score': array([9, 7, 3, 2, 1, 4, 5, 6, 8]),\n",
       " 'split0_test_score': array([ 0.71156004,  0.72206918,  0.72543618,  0.72492603,  0.72604836,\n",
       "         0.72615039,  0.72421182,  0.72176309,  0.71911029]),\n",
       " 'split0_train_score': array([ 0.71649787,  0.72912574,  0.73195745,  0.73476364,  0.73762086,\n",
       "         0.74223832,  0.7471109 ,  0.75305492,  0.76083574]),\n",
       " 'split1_test_score': array([ 0.71326531,  0.72561224,  0.72765306,  0.72714286,  0.7277551 ,\n",
       "         0.72785714,  0.72765306,  0.72357143,  0.72234694]),\n",
       " 'split1_train_score': array([ 0.71607143,  0.7282398 ,  0.73137755,  0.73341837,  0.73505102,\n",
       "         0.74086735,  0.74482143,  0.75071429,  0.75798469]),\n",
       " 'split2_test_score': array([ 0.71755102,  0.73265306,  0.73418367,  0.73622449,  0.73744898,\n",
       "         0.73408163,  0.73214286,  0.73367347,  0.72928571]),\n",
       " 'split2_train_score': array([ 0.715     ,  0.72647959,  0.72977041,  0.7330102 ,  0.73464286,\n",
       "         0.73880102,  0.74387755,  0.74997449,  0.7559949 ]),\n",
       " 'split3_test_score': array([ 0.71357143,  0.72397959,  0.7277551 ,  0.72836735,  0.73020408,\n",
       "         0.72877551,  0.72867347,  0.7277551 ,  0.72734694]),\n",
       " 'split3_train_score': array([ 0.7159949 ,  0.72864796,  0.73145408,  0.73438776,  0.73581633,\n",
       "         0.73994898,  0.74660714,  0.75168367,  0.75778061]),\n",
       " 'split4_test_score': array([ 0.72160425,  0.7342586 ,  0.73742219,  0.73813654,  0.73834065,\n",
       "         0.73517706,  0.73589142,  0.73282988,  0.73364629]),\n",
       " 'split4_train_score': array([ 0.71398689,  0.72607842,  0.72903752,  0.73197112,  0.73332313,\n",
       "         0.73760873,  0.74227698,  0.74855233,  0.75783781]),\n",
       " 'std_fit_time': array([ 0.00431711,  0.00039219,  0.00050999,  0.00215638,  0.00060532,\n",
       "         0.00434947,  0.0009513 ,  0.00379258,  0.00329126]),\n",
       " 'std_score_time': array([  3.75770354e-04,   4.91441895e-04,   4.01367480e-04,\n",
       "          4.85434434e-04,   4.98913436e-04,   1.32622464e-05,\n",
       "          4.01568622e-04,   4.05231580e-04,   1.27177038e-05]),\n",
       " 'std_test_score': array([ 0.00362498,  0.00484669,  0.00453354,  0.00523292,  0.00503096,\n",
       "         0.00356478,  0.00399157,  0.0047761 ,  0.00512418]),\n",
       " 'std_train_score': array([ 0.00090622,  0.00121166,  0.00111669,  0.00099684,  0.00141805,\n",
       "         0.00160395,  0.00177351,  0.00152357,  0.00155556])}"
      ]
     },
     "execution_count": 164,
     "metadata": {},
     "output_type": "execute_result"
    }
   ],
   "source": [
    "results"
   ]
  },
  {
   "cell_type": "code",
   "execution_count": 165,
   "metadata": {},
   "outputs": [
    {
     "data": {
      "image/png": "[encoded data removed]",
      "text/plain": [
       "<matplotlib.figure.Figure at 0x207dbc01e48>"
      ]
     },
     "metadata": {},
     "output_type": "display_data"
    }
   ],
   "source": [
    "plt.figure(figsize=(13, 13))\n",
    "plt.title(\"GridSearchCV\", fontsize=16)\n",
    "\n",
    "plt.xlabel(\"mean_test_score\")\n",
    "plt.ylabel(\"Score\")\n",
    "plt.grid()\n",
    "\n",
    "# Get the regular numpy array from the MaskedArray\n",
    "Y_axis = np.array(results['mean_test_score'].data, dtype=float)\n",
    "X_axis = np.array(results['param_max_depth'].data, dtype=float)\n",
    "plt.plot(X_axis, Y_axis)\n",
    "plt.show()"
   ]
  },
  {
   "cell_type": "code",
   "execution_count": 166,
   "metadata": {
    "collapsed": true
   },
   "outputs": [],
   "source": [
    "# Повысила ли настройка глубины дерева качество классификации (accuracy) более чем на 1% на отложенной выборке?"
   ]
  },
  {
   "cell_type": "code",
   "execution_count": 197,
   "metadata": {},
   "outputs": [
    {
     "data": {
      "text/plain": [
       "0.62718690169670022"
      ]
     },
     "execution_count": 197,
     "metadata": {},
     "output_type": "execute_result"
    }
   ],
   "source": [
    "((pred2 - pred1) / pred1) * 100"
   ]
  },
  {
   "cell_type": "code",
   "execution_count": 168,
   "metadata": {
    "collapsed": true
   },
   "outputs": [],
   "source": [
    "# (да, нет) четкий пик вроде есть на max_depth = 6. 0.45% вроде меньше 1%. хз кароч"
   ]
  },
  {
   "cell_type": "code",
   "execution_count": 169,
   "metadata": {
    "collapsed": true
   },
   "outputs": [],
   "source": [
    "# Вопрос 5"
   ]
  },
  {
   "cell_type": "code",
   "execution_count": 170,
   "metadata": {
    "collapsed": true
   },
   "outputs": [],
   "source": [
    "# 1й признак - возраст в 4х категориях"
   ]
  },
  {
   "cell_type": "code",
   "execution_count": 171,
   "metadata": {
    "collapsed": true
   },
   "outputs": [],
   "source": [
    "df['age45-50'] = df['age_years'].apply(lambda x: 1 if x >= 45 and x < 50 else 0)\n",
    "df['age50-55'] = df['age_years'].apply(lambda x: 1 if x >= 50 and x < 55 else 0)\n",
    "df['age55-60'] = df['age_years'].apply(lambda x: 1 if x >= 55 and x < 60 else 0)\n",
    "df['age60-65'] = df['age_years'].apply(lambda x: 1 if x >= 60 and x < 65 else 0)"
   ]
  },
  {
   "cell_type": "code",
   "execution_count": 172,
   "metadata": {
    "collapsed": true
   },
   "outputs": [],
   "source": [
    "# 2й признак - верхнее артериальное давление"
   ]
  },
  {
   "cell_type": "code",
   "execution_count": 173,
   "metadata": {
    "collapsed": true
   },
   "outputs": [],
   "source": [
    "df['ap_hi120-140'] = df['ap_hi'].apply(lambda x: 1 if x >= 120 and x < 140 else 0)\n",
    "df['ap_hi140-160'] = df['ap_hi'].apply(lambda x: 1 if x >= 140 and x < 160 else 0)\n",
    "df['ap_hi160-180'] = df['ap_hi'].apply(lambda x: 1 if x >= 160 and x < 180 else 0)\n"
   ]
  },
  {
   "cell_type": "code",
   "execution_count": 174,
   "metadata": {
    "collapsed": true
   },
   "outputs": [],
   "source": [
    "# 3й признак - пол м/ж"
   ]
  },
  {
   "cell_type": "code",
   "execution_count": 175,
   "metadata": {
    "collapsed": true
   },
   "outputs": [],
   "source": [
    "df.gender.replace(to_replace=[1, 2], value=[0, 1], inplace=True)\n",
    "df['male'] = df['gender']"
   ]
  },
  {
   "cell_type": "code",
   "execution_count": 190,
   "metadata": {},
   "outputs": [],
   "source": [
    "new_df = pd.DataFrame(data = df[['age45-50'] + ['age50-55'] + ['age55-60'] + ['age60-65'] + \n",
    "                             ['ap_hi120-140'] + ['ap_hi140-160'] + ['ap_hi160-180'] + ['chol1'] + ['chol2'] + ['chol3'] + \n",
    "                             ['smoke'] + ['male']])"
   ]
  },
  {
   "cell_type": "code",
   "execution_count": 191,
   "metadata": {},
   "outputs": [
    {
     "data": {
      "text/html": [
       "<div>\n",
       "<style>\n",
       "    .dataframe thead tr:only-child th {\n",
       "        text-align: right;\n",
       "    }\n",
       "\n",
       "    .dataframe thead th {\n",
       "        text-align: left;\n",
       "    }\n",
       "\n",
       "    .dataframe tbody tr th {\n",
       "        vertical-align: top;\n",
       "    }\n",
       "</style>\n",
       "<table border=\"1\" class=\"dataframe\">\n",
       "  <thead>\n",
       "    <tr style=\"text-align: right;\">\n",
       "      <th></th>\n",
       "      <th>age45-50</th>\n",
       "      <th>age50-55</th>\n",
       "      <th>age55-60</th>\n",
       "      <th>age60-65</th>\n",
       "      <th>ap_hi120-140</th>\n",
       "      <th>ap_hi140-160</th>\n",
       "      <th>ap_hi160-180</th>\n",
       "      <th>chol1</th>\n",
       "      <th>chol2</th>\n",
       "      <th>chol3</th>\n",
       "      <th>smoke</th>\n",
       "      <th>male</th>\n",
       "    </tr>\n",
       "    <tr>\n",
       "      <th>id</th>\n",
       "      <th></th>\n",
       "      <th></th>\n",
       "      <th></th>\n",
       "      <th></th>\n",
       "      <th></th>\n",
       "      <th></th>\n",
       "      <th></th>\n",
       "      <th></th>\n",
       "      <th></th>\n",
       "      <th></th>\n",
       "      <th></th>\n",
       "      <th></th>\n",
       "    </tr>\n",
       "  </thead>\n",
       "  <tbody>\n",
       "    <tr>\n",
       "      <th>0</th>\n",
       "      <td>0</td>\n",
       "      <td>1</td>\n",
       "      <td>0</td>\n",
       "      <td>0</td>\n",
       "      <td>0</td>\n",
       "      <td>0</td>\n",
       "      <td>0</td>\n",
       "      <td>1</td>\n",
       "      <td>0</td>\n",
       "      <td>0</td>\n",
       "      <td>0</td>\n",
       "      <td>1</td>\n",
       "    </tr>\n",
       "    <tr>\n",
       "      <th>1</th>\n",
       "      <td>0</td>\n",
       "      <td>0</td>\n",
       "      <td>1</td>\n",
       "      <td>0</td>\n",
       "      <td>0</td>\n",
       "      <td>1</td>\n",
       "      <td>0</td>\n",
       "      <td>0</td>\n",
       "      <td>0</td>\n",
       "      <td>1</td>\n",
       "      <td>0</td>\n",
       "      <td>0</td>\n",
       "    </tr>\n",
       "    <tr>\n",
       "      <th>2</th>\n",
       "      <td>0</td>\n",
       "      <td>1</td>\n",
       "      <td>0</td>\n",
       "      <td>0</td>\n",
       "      <td>1</td>\n",
       "      <td>0</td>\n",
       "      <td>0</td>\n",
       "      <td>0</td>\n",
       "      <td>0</td>\n",
       "      <td>1</td>\n",
       "      <td>0</td>\n",
       "      <td>0</td>\n",
       "    </tr>\n",
       "    <tr>\n",
       "      <th>3</th>\n",
       "      <td>1</td>\n",
       "      <td>0</td>\n",
       "      <td>0</td>\n",
       "      <td>0</td>\n",
       "      <td>0</td>\n",
       "      <td>1</td>\n",
       "      <td>0</td>\n",
       "      <td>1</td>\n",
       "      <td>0</td>\n",
       "      <td>0</td>\n",
       "      <td>0</td>\n",
       "      <td>1</td>\n",
       "    </tr>\n",
       "    <tr>\n",
       "      <th>4</th>\n",
       "      <td>1</td>\n",
       "      <td>0</td>\n",
       "      <td>0</td>\n",
       "      <td>0</td>\n",
       "      <td>0</td>\n",
       "      <td>0</td>\n",
       "      <td>0</td>\n",
       "      <td>1</td>\n",
       "      <td>0</td>\n",
       "      <td>0</td>\n",
       "      <td>0</td>\n",
       "      <td>0</td>\n",
       "    </tr>\n",
       "  </tbody>\n",
       "</table>\n",
       "</div>"
      ],
      "text/plain": [
       "    age45-50  age50-55  age55-60  age60-65  ap_hi120-140  ap_hi140-160  \\\n",
       "id                                                                       \n",
       "0          0         1         0         0             0             0   \n",
       "1          0         0         1         0             0             1   \n",
       "2          0         1         0         0             1             0   \n",
       "3          1         0         0         0             0             1   \n",
       "4          1         0         0         0             0             0   \n",
       "\n",
       "    ap_hi160-180  chol1  chol2  chol3  smoke  male  \n",
       "id                                                  \n",
       "0              0      1      0      0      0     1  \n",
       "1              0      0      0      1      0     0  \n",
       "2              0      0      0      1      0     0  \n",
       "3              0      1      0      0      0     1  \n",
       "4              0      1      0      0      0     0  "
      ]
     },
     "execution_count": 191,
     "metadata": {},
     "output_type": "execute_result"
    }
   ],
   "source": [
    "new_df.head()"
   ]
  },
  {
   "cell_type": "code",
   "execution_count": 192,
   "metadata": {},
   "outputs": [
    {
     "data": {
      "text/plain": [
       "DecisionTreeClassifier(class_weight=None, criterion='gini', max_depth=3,\n",
       "            max_features=None, max_leaf_nodes=None,\n",
       "            min_impurity_split=1e-07, min_samples_leaf=1,\n",
       "            min_samples_split=2, min_weight_fraction_leaf=0.0,\n",
       "            presort=False, random_state=17, splitter='best')"
      ]
     },
     "execution_count": 192,
     "metadata": {},
     "output_type": "execute_result"
    }
   ],
   "source": [
    "mytree_new = DecisionTreeClassifier(max_depth=3, random_state=17)\n",
    "mytree_new.fit(new_df.values, y_var)"
   ]
  },
  {
   "cell_type": "code",
   "execution_count": 193,
   "metadata": {
    "collapsed": true
   },
   "outputs": [],
   "source": [
    "export_graphviz(mytree_new, out_file='tree_new.dot', feature_names=new_df.columns) \n",
    "\n",
    "!dot -Tpng tree_new.dot -o tree_new.png\n",
    "\n",
    "import os\n",
    "os.startfile(r'tree_new.png')"
   ]
  },
  {
   "cell_type": "code",
   "execution_count": 194,
   "metadata": {
    "collapsed": true
   },
   "outputs": [],
   "source": [
    "\n",
    "import os\n",
    "os.startfile(r'tree_new.png')"
   ]
  },
  {
   "cell_type": "code",
   "execution_count": null,
   "metadata": {
    "collapsed": true
   },
   "outputs": [],
   "source": []
  }
 ],
 "metadata": {
  "kernelspec": {
   "display_name": "Python 3",
   "language": "python",
   "name": "python3"
  },
  "language_info": {
   "codemirror_mode": {
    "name": "ipython",
    "version": 3
   },
   "file_extension": ".py",
   "mimetype": "text/x-python",
   "name": "python",
   "nbconvert_exporter": "python",
   "pygments_lexer": "ipython3",
   "version": "3.6.1"
  }
 },
 "nbformat": 4,
 "nbformat_minor": 2
}
